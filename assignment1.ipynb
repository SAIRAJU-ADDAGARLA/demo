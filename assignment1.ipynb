{
  "nbformat": 4,
  "nbformat_minor": 0,
  "metadata": {
    "colab": {
      "provenance": [],
      "authorship_tag": "ABX9TyO9bOKK6m5iCYWRIVmZoeUh",
      "include_colab_link": true
    },
    "kernelspec": {
      "name": "python3",
      "display_name": "Python 3"
    },
    "language_info": {
      "name": "python"
    }
  },
  "cells": [
    {
      "cell_type": "markdown",
      "metadata": {
        "id": "view-in-github",
        "colab_type": "text"
      },
      "source": [
        "<a href=\"https://colab.research.google.com/github/SAIRAJU-ADDAGARLA/demo/blob/main/assignment1.ipynb\" target=\"_parent\"><img src=\"https://colab.research.google.com/assets/colab-badge.svg\" alt=\"Open In Colab\"/></a>"
      ]
    },
    {
      "cell_type": "code",
      "source": [
        "print(\"hello\")\n",
        "a=56776\n",
        "print(a)"
      ],
      "metadata": {
        "colab": {
          "base_uri": "https://localhost:8080/"
        },
        "id": "i7T4IW3iVL2M",
        "outputId": "d7c9e075-d5ca-4375-ef0d-fd621b5f146f"
      },
      "execution_count": null,
      "outputs": [
        {
          "output_type": "stream",
          "name": "stdout",
          "text": [
            "hello\n",
            "56776\n"
          ]
        }
      ]
    },
    {
      "cell_type": "markdown",
      "source": [
        "###ASSIGNMENT\n",
        "Q1"
      ],
      "metadata": {
        "id": "7PvBeGq0LT3-"
      }
    },
    {
      "cell_type": "code",
      "execution_count": null,
      "metadata": {
        "id": "Pruod5vdVK5r",
        "colab": {
          "base_uri": "https://localhost:8080/"
        },
        "outputId": "fa497e8f-05dc-4227-aada-6267531aa769"
      },
      "outputs": [
        {
          "output_type": "stream",
          "name": "stdout",
          "text": [
            "addition [5 7 9]\n",
            "subtraction [-3 -3 -3]\n",
            "multiplication [ 4 10 18]\n",
            "division [0.25 0.4  0.5 ]\n"
          ]
        }
      ],
      "source": [
        "import numpy as np\n",
        "a = np.array([1, 2, 3])\n",
        "b = np.array([4, 5, 6])\n",
        "\n",
        "print(\"addition\",a + b)\n",
        "print(\"subtraction\",a-b)\n",
        "print(\"multiplication\",a*b)\n",
        "print(\"division\",a/b)"
      ]
    },
    {
      "cell_type": "markdown",
      "source": [
        "Q2"
      ],
      "metadata": {
        "id": "Uehig3b6h95F"
      }
    },
    {
      "cell_type": "code",
      "source": [
        "arr = np.array([1, 2, 3, 4, 5, 6, 7, 8, 9, 10])\n",
        "mean = np.mean(arr)\n",
        "std_dev = np.std(arr)\n",
        "mean,std_dev"
      ],
      "metadata": {
        "colab": {
          "base_uri": "https://localhost:8080/"
        },
        "id": "H6VLMotQMLJ-",
        "outputId": "c117b311-25c1-44a1-99c1-99a75b439457"
      },
      "execution_count": null,
      "outputs": [
        {
          "output_type": "execute_result",
          "data": {
            "text/plain": [
              "(5.5, 2.8722813232690143)"
            ]
          },
          "metadata": {},
          "execution_count": 3
        }
      ]
    },
    {
      "cell_type": "markdown",
      "source": [
        "Q3"
      ],
      "metadata": {
        "id": "2OCYTyGFiCKg"
      }
    },
    {
      "cell_type": "code",
      "source": [
        "\n",
        "arr = np.arange(10, 51, 5)\n",
        "\n",
        "arr\n"
      ],
      "metadata": {
        "colab": {
          "base_uri": "https://localhost:8080/"
        },
        "id": "_WJXplhbMiVZ",
        "outputId": "ff9a35d3-3a41-477d-803d-c91ac2db866f"
      },
      "execution_count": null,
      "outputs": [
        {
          "output_type": "execute_result",
          "data": {
            "text/plain": [
              "array([10, 12, 14, 16, 18, 20, 22, 24, 26, 28, 30, 32, 34, 36, 38, 40, 42,\n",
              "       44, 46, 48, 50])"
            ]
          },
          "metadata": {},
          "execution_count": 5
        }
      ]
    },
    {
      "cell_type": "markdown",
      "source": [
        "Q4"
      ],
      "metadata": {
        "id": "UmxTH2DRiIPH"
      }
    },
    {
      "cell_type": "code",
      "source": [
        "import numpy as np\n",
        "\n",
        "arr = np.arange(10, 51, 5)[:8]\n",
        "reshaped_arr = arr.reshape(2, 4)\n",
        "\n",
        "reshaped_arr\n"
      ],
      "metadata": {
        "colab": {
          "base_uri": "https://localhost:8080/"
        },
        "id": "vaz9OawJMvLJ",
        "outputId": "86c951da-ad38-4dff-e318-5b1b5010f276"
      },
      "execution_count": null,
      "outputs": [
        {
          "output_type": "execute_result",
          "data": {
            "text/plain": [
              "array([[10, 15, 20, 25],\n",
              "       [30, 35, 40, 45]])"
            ]
          },
          "metadata": {},
          "execution_count": 13
        }
      ]
    },
    {
      "cell_type": "markdown",
      "source": [
        "Q5"
      ],
      "metadata": {
        "id": "6kHh9mSDiKO_"
      }
    },
    {
      "cell_type": "code",
      "source": [
        "\n",
        "arr = np.array([[1, 2, 3], [4, 5, 6], [7, 8, 9]])\n",
        "\n",
        "sub_matrix = arr[1:, :2]\n",
        "\n",
        "\n",
        "arr[arr > 4] = 0\n",
        "\n",
        "sub_matrix, arr\n"
      ],
      "metadata": {
        "colab": {
          "base_uri": "https://localhost:8080/"
        },
        "id": "MkJvkaN4PDU4",
        "outputId": "41b2799e-1b0a-42f9-aa15-d41cd0f7ecb1"
      },
      "execution_count": null,
      "outputs": [
        {
          "output_type": "execute_result",
          "data": {
            "text/plain": [
              "(array([[4, 0],\n",
              "        [0, 0]]),\n",
              " array([[1, 2, 3],\n",
              "        [4, 0, 0],\n",
              "        [0, 0, 0]]))"
            ]
          },
          "metadata": {},
          "execution_count": 14
        }
      ]
    },
    {
      "cell_type": "markdown",
      "source": [
        "Q6"
      ],
      "metadata": {
        "id": "OMI9Tjs-iNhL"
      }
    },
    {
      "cell_type": "code",
      "source": [
        "# Create two arrays\n",
        "a = np.array([1, 2, 3])\n",
        "b = np.array([4, 5, 6])\n",
        "\n",
        "\n",
        "addition = a + b\n",
        "multiplication = a * b\n",
        "division = a / b\n",
        "\n",
        "addition, multiplication, division\n"
      ],
      "metadata": {
        "colab": {
          "base_uri": "https://localhost:8080/"
        },
        "id": "FQIYY5kuPG9e",
        "outputId": "5e50b74e-7350-4a75-c907-a346b38131c5"
      },
      "execution_count": null,
      "outputs": [
        {
          "output_type": "execute_result",
          "data": {
            "text/plain": [
              "(array([5, 7, 9]), array([ 4, 10, 18]), array([0.25, 0.4 , 0.5 ]))"
            ]
          },
          "metadata": {},
          "execution_count": 15
        }
      ]
    },
    {
      "cell_type": "markdown",
      "source": [
        "Q7"
      ],
      "metadata": {
        "id": "GXrfG9yViPPs"
      }
    },
    {
      "cell_type": "code",
      "source": [
        "arr = np.random.randint(1, 100, size=(4, 4))\n",
        "\n",
        "mean_column = np.mean(arr, axis=0)\n",
        "max_value = np.max(arr)\n",
        "sum_elements = np.sum(arr)\n",
        "\n",
        "mean_column, max_value, sum_elements\n"
      ],
      "metadata": {
        "colab": {
          "base_uri": "https://localhost:8080/"
        },
        "id": "Cscn1K6tPKad",
        "outputId": "227e442e-773b-456e-847b-e4eae24c58ae"
      },
      "execution_count": null,
      "outputs": [
        {
          "output_type": "execute_result",
          "data": {
            "text/plain": [
              "(array([31.5, 74.5, 48.5, 30.5]), 94, 740)"
            ]
          },
          "metadata": {},
          "execution_count": 16
        }
      ]
    },
    {
      "cell_type": "markdown",
      "source": [
        "Q8"
      ],
      "metadata": {
        "id": "mfVgy7T3iQ8R"
      }
    },
    {
      "cell_type": "code",
      "source": [
        "\n",
        "arr = np.array([1, 2, 3, 4])\n",
        "\n",
        "result = (arr + 10) * 2\n",
        "\n",
        "result\n"
      ],
      "metadata": {
        "colab": {
          "base_uri": "https://localhost:8080/"
        },
        "id": "sDvgjunoPMtS",
        "outputId": "ff889613-7bfa-4c40-c299-faf10582aa7c"
      },
      "execution_count": null,
      "outputs": [
        {
          "output_type": "execute_result",
          "data": {
            "text/plain": [
              "array([22, 24, 26, 28])"
            ]
          },
          "metadata": {},
          "execution_count": 17
        }
      ]
    },
    {
      "cell_type": "markdown",
      "source": [
        "Q9"
      ],
      "metadata": {
        "id": "BwFqpaEXiSPT"
      }
    },
    {
      "cell_type": "code",
      "source": [
        "\n",
        "arr = np.random.randint(1, 100, size=(3, 4, 5))\n",
        "\n",
        "second_layer = arr[1]\n",
        "\n",
        "extracted_part = arr[:, :2, -3:]\n",
        "\n",
        "arr[arr % 3 == 0] = -1\n",
        "\n",
        "second_layer, extracted_part, arr\n"
      ],
      "metadata": {
        "colab": {
          "base_uri": "https://localhost:8080/"
        },
        "id": "Ms7jB-GXPRaa",
        "outputId": "14ecc4c9-c7cd-40a2-da3d-f3d3d2a85e30"
      },
      "execution_count": null,
      "outputs": [
        {
          "output_type": "execute_result",
          "data": {
            "text/plain": [
              "(array([[-1, 65, -1, 40, -1],\n",
              "        [-1, 55, -1, 58, 53],\n",
              "        [89, 79, 22, -1, -1],\n",
              "        [-1, 61, -1, 38, 55]]),\n",
              " array([[[65, -1, -1],\n",
              "         [85, 52, -1]],\n",
              " \n",
              "        [[-1, 40, -1],\n",
              "         [-1, 58, 53]],\n",
              " \n",
              "        [[50, 89, 14],\n",
              "         [68,  5, 65]]]),\n",
              " array([[[79, -1, 65, -1, -1],\n",
              "         [-1, 29, 85, 52, -1],\n",
              "         [-1, -1, 19, 62, -1],\n",
              "         [35, 11, 95, 14, 67]],\n",
              " \n",
              "        [[-1, 65, -1, 40, -1],\n",
              "         [-1, 55, -1, 58, 53],\n",
              "         [89, 79, 22, -1, -1],\n",
              "         [-1, 61, -1, 38, 55]],\n",
              " \n",
              "        [[95, -1, 50, 89, 14],\n",
              "         [38, -1, 68,  5, 65],\n",
              "         [83, 26, 17, -1, -1],\n",
              "         [61, 82, -1, 28, 91]]]))"
            ]
          },
          "metadata": {},
          "execution_count": 18
        }
      ]
    },
    {
      "cell_type": "markdown",
      "source": [
        "Q10"
      ],
      "metadata": {
        "id": "0JrGCpahiUcX"
      }
    },
    {
      "cell_type": "code",
      "source": [
        "\n",
        "arr = np.random.randint(1, 20, size=(3, 3))\n",
        "row_mean = np.mean(arr, axis=1, keepdims=True)\n",
        "normalized_arr = arr - row_mean\n",
        "squared_arr = np.power(arr, 2)\n",
        "\n",
        "top_3_indices = np.unravel_index(np.argsort(arr.ravel())[-3:], arr.shape)\n",
        "\n",
        "print(\"normalized\",normalized_arr)\n",
        "print(\"square\",squared_arr)\n",
        "print(\"top 3 indices\",top_3_indices)\n"
      ],
      "metadata": {
        "colab": {
          "base_uri": "https://localhost:8080/"
        },
        "id": "x0YoLFV7PVHV",
        "outputId": "f88e0e30-aad5-4f7e-a389-2bce95d9420a"
      },
      "execution_count": null,
      "outputs": [
        {
          "output_type": "stream",
          "name": "stdout",
          "text": [
            "normalized [[-4.66666667  5.33333333 -0.66666667]\n",
            " [ 5.          0.         -5.        ]\n",
            " [-6.         -1.          7.        ]]\n",
            "square [[ 64 324 144]\n",
            " [256 121  36]\n",
            " [  4  49 225]]\n",
            "top 3 indices (array([2, 1, 0]), array([2, 0, 1]))\n"
          ]
        }
      ]
    }
  ]
}