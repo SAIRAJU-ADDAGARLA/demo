{
  "nbformat": 4,
  "nbformat_minor": 0,
  "metadata": {
    "colab": {
      "provenance": [],
      "authorship_tag": "ABX9TyNAoKghALwbLfeeq3D21mh0",
      "include_colab_link": true
    },
    "kernelspec": {
      "name": "python3",
      "display_name": "Python 3"
    },
    "language_info": {
      "name": "python"
    }
  },
  "cells": [
    {
      "cell_type": "markdown",
      "metadata": {
        "id": "view-in-github",
        "colab_type": "text"
      },
      "source": [
        "<a href=\"https://colab.research.google.com/github/SAIRAJU-ADDAGARLA/demo/blob/main/ml1.ipynb\" target=\"_parent\"><img src=\"https://colab.research.google.com/assets/colab-badge.svg\" alt=\"Open In Colab\"/></a>"
      ]
    },
    {
      "cell_type": "code",
      "source": [
        "fi(1,3)"
      ],
      "metadata": {
        "colab": {
          "base_uri": "https://localhost:8080/"
        },
        "id": "hKsjO8hurTXb",
        "outputId": "bee81cfd-9b8c-40d4-8353-429103357629"
      },
      "execution_count": 3,
      "outputs": [
        {
          "output_type": "execute_result",
          "data": {
            "text/plain": [
              "4"
            ]
          },
          "metadata": {},
          "execution_count": 3
        }
      ]
    },
    {
      "cell_type": "code",
      "execution_count": 1,
      "metadata": {
        "colab": {
          "base_uri": "https://localhost:8080/"
        },
        "id": "slG7z-nfqx0V",
        "outputId": "7769acfe-8e98-4ed2-a0c0-83a08ae925ef"
      },
      "outputs": [
        {
          "output_type": "stream",
          "name": "stdout",
          "text": [
            "hello sai raju\n"
          ]
        }
      ],
      "source": [
        "print(\"hello sai raju\")\n"
      ]
    },
    {
      "cell_type": "code",
      "source": [
        "def fi(a,b):\n",
        "     return a+b"
      ],
      "metadata": {
        "id": "9GvHJeJErFZI"
      },
      "execution_count": 2,
      "outputs": []
    },
    {
      "cell_type": "markdown",
      "source": [
        "FUNCTIONS\n"
      ],
      "metadata": {
        "id": "ty65wcG-raj9"
      }
    },
    {
      "cell_type": "code",
      "source": [
        "len(\"hello\")"
      ],
      "metadata": {
        "colab": {
          "base_uri": "https://localhost:8080/"
        },
        "id": "RL8gYWuqrjem",
        "outputId": "3604e4d3-92df-4027-a938-f770867d19be"
      },
      "execution_count": 4,
      "outputs": [
        {
          "output_type": "execute_result",
          "data": {
            "text/plain": [
              "5"
            ]
          },
          "metadata": {},
          "execution_count": 4
        }
      ]
    },
    {
      "cell_type": "markdown",
      "source": [
        "###abc\n"
      ],
      "metadata": {
        "id": "7f0hMeaGrsHL"
      }
    },
    {
      "cell_type": "code",
      "source": [],
      "metadata": {
        "id": "BMhfiHXqrY_T"
      },
      "execution_count": null,
      "outputs": []
    }
  ]
}